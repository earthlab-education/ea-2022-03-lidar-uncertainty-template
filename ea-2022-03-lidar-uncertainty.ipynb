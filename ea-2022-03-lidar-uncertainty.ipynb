{
 "cells": [
  {
   "cell_type": "markdown",
   "metadata": {},
   "source": [
    "<img style=\"float: left;\" src=\"earth-lab-logo-rgb.png\" width=\"150\" height=\"150\" />\n",
    "\n",
    "# Earth Analytics Education - EA  Python Course Spring 2021"
   ]
  },
  {
   "cell_type": "markdown",
   "metadata": {},
   "source": [
    "## Important  - Assignment Guidelines\n",
    "\n",
    "1. Before you submit your assignment to GitHub, make sure to run the entire notebook with a fresh kernel. To do this first, **restart the kernel** (in the menubar, select Kernel$\\rightarrow$Restart & Run All)\n",
    "2. Always replace the `raise NotImplementedError()` code with your code that addresses the activity challenge. If you don't replace that code, your notebook will not run.\n",
    "\n",
    "```\n",
    "# YOUR CODE HERE\n",
    "raise NotImplementedError()\n",
    "```\n",
    "\n",
    "3. Any open ended questions will have a \"YOUR ANSWER HERE\" within a markdown cell. Replace that text with your answer also formatted using Markdown.\n",
    "4. **DO NOT RENAME THIS NOTEBOOK File!** If the file name changes, the autograder will not grade your assignment properly.\n",
    "6. When you create a figure, comment out `plt.show()` to ensure the autograder can grade your plots. For figure cells, DO NOT DELETE the code that says `DO NOT REMOVE LINE BELOW`.\n",
    "\n",
    "```\n",
    "### DO NOT REMOVE LINE BELOW ###\n",
    "student_plot1_ax = nb.convert_axes(plt)\n",
    "```\n",
    "\n",
    "* Only include the package imports, code, and outputs that are required to run your homework assignment.\n",
    "* Be sure that your code can be run on any operating system. This means that:\n",
    "   1. the data should be downloaded in the notebook to ensure it's reproducible\n",
    "   2. all paths should be created dynamically using the `os.path.join`\n",
    "\n",
    "## Follow to PEP 8 Syntax Guidelines & Documentation\n",
    "\n",
    "* Run the `autopep8` tool on all cells prior to submitting (HINT: hit shift + the tool to run it on all cells at once!\n",
    "* Use clear and expressive names for variables. \n",
    "* Organize your code to support readability.\n",
    "* Check for code line length\n",
    "* Use comments and white space sparingly where it is needed\n",
    "* Make sure all python imports are at the top of your notebook and follow PEP 8 order conventions\n",
    "* Spell check your Notebook before submitting it.\n",
    "\n",
    "For all of the plots below, be sure to do the following:\n",
    "\n",
    "* Make sure each plot has a clear TITLE and, where appropriate, label the x and y axes. Be sure to include UNITS in your labels.\n"
   ]
  },
  {
   "cell_type": "markdown",
   "metadata": {},
   "source": [
    "### Add Your Name Below \n",
    "**Your Name:**"
   ]
  },
  {
   "cell_type": "markdown",
   "metadata": {},
   "source": [
    "<img style=\"float: left;\" src=\"colored-bar.png\"/>"
   ]
  },
  {
   "cell_type": "markdown",
   "metadata": {},
   "source": [
    "---"
   ]
  },
  {
   "cell_type": "markdown",
   "metadata": {
    "deletable": false,
    "editable": false,
    "nbgrader": {
     "cell_type": "markdown",
     "checksum": "e92a4b4e0ec32740f4a8e6fc196716d3",
     "grade": false,
     "grade_id": "hw-instructions",
     "locked": true,
     "schema_version": 3,
     "solution": false,
     "task": false
    }
   },
   "source": [
    "# Week 03- Lidar Data Compared to Ground Measurements: Understanding Uncertainty\n",
    "\n",
    "This week you will work with lidar data again! This time you will explore the values in a lidar dataset - specifically tree height from a canopy height model. You will compare these measurements to the same types of measurements made by humans in the field. You will use all of the raster and vector spatial data skills that you have gained so far this semester, combined with some pandas skills, to complete this assignment. \n",
    "\n",
    "Youu will use the same data as you used for last week's homework. You can download it from earthpy using: \n",
    "\n",
    "`et.data.get_data('spatial-vector-lidar')`\n",
    "\n",
    "For both the SJER and SOAP field sites, create scatterplots (with regression and 1:1 lines) that compare:\n",
    "* **MAXIMUM** canopy height model height in meters, extracted within a 20 meter radius, compared to **MAXIMUM** tree\n",
    "height derived from the *insitu* field site data.\n",
    "* **MEAN** canopy height model height in meters, extracted within a 20 meter radius, compared to **MEAN** tree height derived from the *insitu* field site data.\n",
    "\n",
    "Create one figure for each site with two subplots (ax1, ax2): one for the Max comparison and one for the Mean comparison.\n",
    "\n",
    "\n",
    "### IMPORTANT: For All Plots\n",
    "\n",
    "* Place lidar data values on the X axis and human measured tree height on the Y axis.\n",
    "* Include a calculated **regression line** (HINT: use `sns.regplot()` to achieve this line) that describes the relationship of lidar of the data.\n",
    "* Include a separate **1:1 line** that can be used to compare the regression fit to a perfect 1:1 fit. \n",
    "* Set the x and y limits to be the SAME for each individual plot. (e.g. for plot 3, the x and y limits are set to the same range). \n",
    "* Label x and y axes appropriately - include units.\n",
    "* Add a title to your plot that describes what the plot shows.\n",
    "* Ensure that your notebook is fully reproducible. This means you will:\n",
    "   * Create reproducible paths using the os module\n",
    "   * Download the data using code in the notebook: NOTE: the `et.get_data` function will not download the data again if you already have it so it's safe to add without worry of slowing down your notebook!! \n"
   ]
  },
  {
   "cell_type": "markdown",
   "metadata": {
    "deletable": false,
    "editable": false,
    "nbgrader": {
     "cell_type": "markdown",
     "checksum": "41f77bec91ca52d6a0dde97436cb65c9",
     "grade": false,
     "grade_id": "bar1",
     "locked": true,
     "schema_version": 3,
     "solution": false,
     "task": false
    }
   },
   "source": [
    "![Colored Bar](colored-bar.png)"
   ]
  },
  {
   "cell_type": "code",
   "execution_count": null,
   "metadata": {
    "deletable": false,
    "editable": false,
    "nbgrader": {
     "cell_type": "code",
     "checksum": "0fbe48a103f31025f21328a1c6c54834",
     "grade": false,
     "grade_id": "core-imports",
     "locked": true,
     "schema_version": 3,
     "solution": false,
     "task": false
    }
   },
   "outputs": [],
   "source": [
    "# Autograding imports - do not modify this cell\n",
    "import matplotcheck.notebook as nb\n",
    "import matplotcheck.autograde as ag\n",
    "import matplotcheck.base as pt\n",
    "import numpy as np"
   ]
  },
  {
   "cell_type": "code",
   "execution_count": null,
   "metadata": {
    "deletable": false,
    "nbgrader": {
     "cell_type": "code",
     "checksum": "2602ce5ec525600cadbb1b4047f2e2b2",
     "grade": true,
     "grade_id": "student-imports-answer",
     "locked": false,
     "points": 5,
     "schema_version": 3,
     "solution": true,
     "task": false
    }
   },
   "outputs": [],
   "source": [
    "# Import required libraries here\n",
    "\n",
    "# YOUR CODE HERE\n",
    "raise NotImplementedError()"
   ]
  },
  {
   "cell_type": "code",
   "execution_count": null,
   "metadata": {
    "deletable": false,
    "editable": false,
    "hideCode": false,
    "hidePrompt": false,
    "nbgrader": {
     "cell_type": "code",
     "checksum": "dcf5b59326bf066172ff61520b658a3d",
     "grade": true,
     "grade_id": "student-download-tests",
     "locked": true,
     "points": 0,
     "schema_version": 3,
     "solution": false,
     "task": false
    }
   },
   "outputs": [],
   "source": [
    "# DO NOT MODIFY THIS CELL\n",
    "# Tests that the working directory is set to earth-analytics/data\n",
    "\n",
    "path = os.path.normpath(os.getcwd())\n",
    "student_wd_parts = path.split(os.sep)\n",
    "\n",
    "if student_wd_parts[-2:] == ['earth-analytics', 'data']:\n",
    "    print(\"\\u2705 Great - it looks like your working directory is set correctly to ~/earth-analytics/data\")\n",
    "else:\n",
    "    print(\"\\u274C Oops, the autograder will not run unless your working directory is set to earth-analytics/data\")"
   ]
  },
  {
   "cell_type": "markdown",
   "metadata": {
    "deletable": false,
    "editable": false,
    "nbgrader": {
     "cell_type": "markdown",
     "checksum": "75fd1b8b0d483f7a37ffdd5374b685d0",
     "grade": false,
     "grade_id": "bar2",
     "locked": true,
     "schema_version": 3,
     "solution": false,
     "task": false
    }
   },
   "source": [
    "![Colored Bar](colored-bar.png)"
   ]
  },
  {
   "cell_type": "markdown",
   "metadata": {
    "deletable": false,
    "editable": false,
    "nbgrader": {
     "cell_type": "markdown",
     "checksum": "c2ce9316f949154cfdc31c3d6118129e",
     "grade": false,
     "grade_id": "sjer-lidar-insitu-instructions",
     "locked": true,
     "schema_version": 3,
     "solution": false,
     "task": false
    }
   },
   "source": [
    "## Figure 1: Plots 1 & 2 - SJER Lidar vs Insitu Comparison Plots (15 points for each subplot)\n",
    "\n",
    "You will use the following SJER data for this figure:\n",
    "* `spatial-vector-lidar/california/neon-sjer-site/2013/insitu/veg_structure/D17_2013_SJER_vegStr.csv`\n",
    "* `spatial-vector-lidar/california/neon-sjer-site/vector_data/SJER_plot_centroids.shp`\n",
    "\n",
    "Create a figure with 2 subplots for the NEON San Joaquin Experimental Range (SJER) field site.\n",
    "* Plot 1 should show **max** lidar vs insitu height with lidar on the x axis and insitu height on the y axis.\n",
    "* Plot 2 should show **mean** lidar vs insitu height with lidar on the x axis and insitu height on the y axis.\n",
    "\n",
    "For each plot:\n",
    "1. Set the x and y lims to be the same range: `(0, 30)` using `xlim=` and `ylim=`. This will make the plots more comparable.\n",
    "2. Add a title that includes the field site name and the measurement being displayed (max or min height).\n",
    "3. Add a 1:1 line to each plot.\n",
    "4. Add a regression line using `sns.regplot()`. SNS is the alias for the seaborn plotting package (`import seaborn as sns`).\n",
    "\n",
    "To create this plot, you will need to calculate a summary data frame for each site that contains both the lidar mean and max values and insitu (measured on the ground by humans) mean and max values.\n"
   ]
  },
  {
   "cell_type": "code",
   "execution_count": null,
   "metadata": {
    "deletable": false,
    "nbgrader": {
     "cell_type": "code",
     "checksum": "2bd7dd939b86b8c90299eceb67ec23d8",
     "grade": false,
     "grade_id": "open-sjer-insitu-data",
     "locked": false,
     "schema_version": 3,
     "solution": true,
     "task": false
    }
   },
   "outputs": [],
   "source": [
    "# Import SJER plot locations & insitu data\n",
    "\n",
    "# YOUR CODE HERE\n",
    "raise NotImplementedError()"
   ]
  },
  {
   "cell_type": "code",
   "execution_count": null,
   "metadata": {
    "deletable": false,
    "nbgrader": {
     "cell_type": "code",
     "checksum": "5bb40d375b8cdc41516f200c01c284ad",
     "grade": false,
     "grade_id": "open-sjer-lidar-data",
     "locked": false,
     "schema_version": 3,
     "solution": true,
     "task": false
    }
   },
   "outputs": [],
   "source": [
    "# SJER Data -- Import lidar chm, run zonal stats on data\n",
    "# IMPORTANT: rename the calculated columns: lidar_max and lidar_mean\n",
    "# IMPORTANT: call your dataframe at the end of this cell\n",
    "\n",
    "# YOUR CODE HERE\n",
    "raise NotImplementedError()"
   ]
  },
  {
   "cell_type": "code",
   "execution_count": null,
   "metadata": {
    "deletable": false,
    "editable": false,
    "nbgrader": {
     "cell_type": "code",
     "checksum": "968c1f82e59b85150088fb78990e2593",
     "grade": true,
     "grade_id": "sjer-lidar-dataset-test",
     "locked": true,
     "points": 7,
     "schema_version": 3,
     "solution": false,
     "task": false
    }
   },
   "outputs": [],
   "source": [
    "# Tests that the new columns exist and have the correct values\n",
    "# IMPORTANT: Make sure you called the dataframe with the new columns at the end of the above cell.\n",
    "# Do not modify this cell\n",
    "student_sjer_lidar_sum = _\n",
    "student_sjer_lidar_points = 0\n",
    "\n",
    "if isinstance(student_sjer_lidar_sum, gpd.GeoDataFrame):\n",
    "    print(\"\\u2705 Great job! Your data are stored in a GeoDataFrame!\")\n",
    "    student_sjer_lidar_points += 1\n",
    "else:\n",
    "    print(\"\\u274C Oops, the data are not stored in a GeoDataFrame.\")\n",
    "\n",
    "student_colunms = student_sjer_lidar_sum.columns\n",
    "\n",
    "if 'lidar_max' in student_colunms:\n",
    "    print(\"\\u2705 Dataset has the correct column name for the maximum values!\")\n",
    "    student_sjer_lidar_points += 1\n",
    "else:\n",
    "    print(\"\\u274C Oops, the dataset does not have the correct column name for the maximum values.\")\n",
    "\n",
    "if 'lidar_mean' in student_colunms:\n",
    "    print(\"\\u2705 Dataset has the correct column name for the mean values!\")\n",
    "    student_sjer_lidar_points += 1\n",
    "else:\n",
    "    print(\"\\u274C Oops, the dataset does not have the correct column name for the mean values.\")\n"
   ]
  },
  {
   "cell_type": "code",
   "execution_count": null,
   "metadata": {
    "deletable": false,
    "nbgrader": {
     "cell_type": "code",
     "checksum": "6a5742806650427c403f56d468553557",
     "grade": false,
     "grade_id": "sjer-group-insitu-data",
     "locked": false,
     "schema_version": 3,
     "solution": true,
     "task": false
    }
   },
   "outputs": [],
   "source": [
    "# SJER -- Calculate mean and max from insitu data (csv file)\n",
    "# IMPORTANT: rename the calculated columns: insitu_max, insitu_mean\n",
    "# IMPORTANT: call your joined dataframe at the end of this cell\n",
    "\n",
    "# YOUR CODE HERE\n",
    "raise NotImplementedError()"
   ]
  },
  {
   "cell_type": "code",
   "execution_count": null,
   "metadata": {
    "deletable": false,
    "editable": false,
    "nbgrader": {
     "cell_type": "code",
     "checksum": "adc0382c535a13473f6d5314c34a4ff7",
     "grade": true,
     "grade_id": "sjer-insitu-dataset-test",
     "locked": true,
     "points": 7,
     "schema_version": 3,
     "solution": false,
     "task": false
    }
   },
   "outputs": [],
   "source": [
    "# Tests that the new columns exist and have the correct values\n",
    "# IMPORTANT: Make sure you called the dataframe with the new columns at the end of the above cell.\n",
    "# Do not modify this cell\n",
    "\n",
    "student_sjer_insitu_sum = _\n",
    "student_sjer_insitu_points = 0\n",
    "\n",
    "if isinstance(student_sjer_insitu_sum, gpd.GeoDataFrame):\n",
    "    print(\"\\u2705 Great job! Your data are stored in a GeoDataFrame!\")\n",
    "    student_sjer_insitu_points += 1\n",
    "else:\n",
    "    print(\"\\u274C Oops, the data are not stored in a GeoDataFrame.\")\n",
    "\n",
    "student_colunms = student_sjer_insitu_sum.columns\n",
    "\n",
    "if 'insitu_max' in student_colunms:\n",
    "    print(\"\\u2705 Dataset has the correct column name for the maximum values!\")\n",
    "    student_sjer_insitu_points += 1\n",
    "else:\n",
    "    print(\"\\u274C Oops, the dataset does not have the correct column name for the maximum values.\")\n",
    "\n",
    "if 'insitu_mean' in student_colunms:\n",
    "    print(\"\\u2705 Dataset has the correct column name for the mean values!\")\n",
    "    student_sjer_insitu_points += 1\n",
    "else:\n",
    "    print(\"\\u274C Oops, the dataset does not have the correct column name for the mean values.\")\n"
   ]
  },
  {
   "cell_type": "code",
   "execution_count": null,
   "metadata": {
    "caption": "Plots of lidar min and max vs insitu min and max with a 1:1 line a regression fit for the NEON SJER field site.",
    "deletable": false,
    "nbgrader": {
     "cell_type": "code",
     "checksum": "1fac9aee77b382bcb63b1155e3c507e7",
     "grade": false,
     "grade_id": "plot-sjer-data",
     "locked": false,
     "schema_version": 3,
     "solution": true,
     "task": false
    }
   },
   "outputs": [],
   "source": [
    "# Plot 1 & 2 - SJER max and mean - plot code only in this cell\n",
    "\n",
    "# YOUR CODE HERE\n",
    "raise NotImplementedError()\n",
    "### DO NOT REMOVE LINE BELOW ###\n",
    "fig01_sjer_max_v_mean = nb.convert_axes(plt, which_axes=\"all\")"
   ]
  },
  {
   "cell_type": "code",
   "execution_count": null,
   "metadata": {
    "deletable": false,
    "editable": false,
    "nbgrader": {
     "cell_type": "code",
     "checksum": "d2214ec12fd646acab881de3ca9c07f8",
     "grade": true,
     "grade_id": "sjer-plot-tests-1",
     "locked": true,
     "points": 15,
     "schema_version": 3,
     "solution": false,
     "task": false
    }
   },
   "outputs": [],
   "source": [
    "# Tests for figure 1 ax 1 (plot 1) - max values\n",
    "# You can skip this cell!\n"
   ]
  },
  {
   "cell_type": "code",
   "execution_count": null,
   "metadata": {
    "deletable": false,
    "editable": false,
    "nbgrader": {
     "cell_type": "code",
     "checksum": "cb9ddda90e83b5c999c3c96c3e76b311",
     "grade": true,
     "grade_id": "sjer-plots-tests-2",
     "locked": true,
     "points": 15,
     "schema_version": 3,
     "solution": false,
     "task": false
    }
   },
   "outputs": [],
   "source": [
    "# Tests for figure 1 ax 2 (plot 2) - mean values\n",
    "# You can skip this cell!\n"
   ]
  },
  {
   "cell_type": "markdown",
   "metadata": {
    "deletable": false,
    "editable": false,
    "nbgrader": {
     "cell_type": "markdown",
     "checksum": "d758b3d87bcfbf22622faffa57d6f2e3",
     "grade": false,
     "grade_id": "soap-lidar-insitu-instructions",
     "locked": true,
     "schema_version": 3,
     "solution": false,
     "task": false
    }
   },
   "source": [
    "## Figure 2: Plots 3 & 4 - SOAP Lidar vs Insitu Comparison Plots (15 points for each subplot)\n",
    "\n",
    "You will use the following SOAP data for this figure:\n",
    "* `spatial-vector-lidar/california/neon-soap-site/2013/insitu/veg-structure/D17_2013_SOAP_vegStr.csv`\n",
    "* `spatial-vector-lidar/california/neon-soap-site/vector_data/SOAP_centroids.shp`\n",
    "\n",
    "Create a figure with 2 subplots for the NEON Soaproot Saddle (SOAP) field site.\n",
    "* Plot 1 should show **max** lidar vs insitu height with lidar on the x axis and insitu height on the y axis.\n",
    "* Plot 2 should show **mean** lidar vs insitu height with lidar on the x axis and insitu height on the y axis.\n",
    "\n",
    "For each plot:\n",
    "\n",
    "1. Set the x and y lims to be the same range using `xlim=` and `ylim=`: \n",
    "    * `(0, 140)` for the SOAP Max height plot. \n",
    "    * `(0, 40)` for the SOAP Mean height plot. \n",
    "2. Add a title that includes the field site name and the measurement being displayed (max or min height).\n",
    "3. Add a 1:1 line to each plot.\n",
    "4. Add a regression line using `sns.regplot()`\n",
    "\n",
    "To create this plot, you will need to calculate a summary data frame for each site that contains lidar mean and max values and insitu (measured on the ground by humans) mean and max values.\n",
    "\n",
    "**HINT**: the SOAP data have some inconsistencies in the column headings. One way to fix this is to use the syntax: \n",
    "\n",
    "`\"text-to-append-to-column\" + dataframe_name[\"column-name-here\"]`"
   ]
  },
  {
   "cell_type": "code",
   "execution_count": null,
   "metadata": {
    "deletable": false,
    "nbgrader": {
     "cell_type": "code",
     "checksum": "7f54548bed490321de37684cc77181ce",
     "grade": false,
     "grade_id": "open-soap-insitu-data",
     "locked": false,
     "schema_version": 3,
     "solution": true,
     "task": false
    }
   },
   "outputs": [],
   "source": [
    "# Import SOAP plot locations & insitu data & lidar\n",
    "\n",
    "# YOUR CODE HERE\n",
    "raise NotImplementedError()"
   ]
  },
  {
   "cell_type": "code",
   "execution_count": null,
   "metadata": {
    "deletable": false,
    "nbgrader": {
     "cell_type": "code",
     "checksum": "57319e89e53559faab30fce119bda264",
     "grade": false,
     "grade_id": "open-soap-lidar-data",
     "locked": false,
     "schema_version": 3,
     "solution": true,
     "task": false
    }
   },
   "outputs": [],
   "source": [
    "# SOAP Data -- Import lidar chm, run zonal stats on data\n",
    "# IMPORTANT: rename the calculated columns: lidar_max and lidar_mean\n",
    "# IMPORTANT: call your dataframe at the end of this cell\n",
    "\n",
    "# YOUR CODE HERE\n",
    "raise NotImplementedError()"
   ]
  },
  {
   "cell_type": "code",
   "execution_count": null,
   "metadata": {
    "deletable": false,
    "editable": false,
    "nbgrader": {
     "cell_type": "code",
     "checksum": "c0ef730dc5c29ee9738495f3b0953eb8",
     "grade": true,
     "grade_id": "soap-lidar-dataset-test",
     "locked": true,
     "points": 7,
     "schema_version": 3,
     "solution": false,
     "task": false
    }
   },
   "outputs": [],
   "source": [
    "# Tests that the new columns exist and have the correct values\n",
    "# IMPORTANT: Make sure you called the dataframe with the new columns at the end of the above cell.\n",
    "# Do not modify this cell\n",
    "\n",
    "student_soap_lidar_sum = _\n",
    "student_soap_lidar_points = 0\n",
    "\n",
    "if isinstance(student_soap_lidar_sum, gpd.GeoDataFrame):\n",
    "    print(\"\\u2705 Great job! Your data are stored in a GeoDataFrame!\")\n",
    "    student_soap_lidar_points += 1\n",
    "else:\n",
    "    print(\"\\u274C Oops, the data are not stored in a GeoDataFrame.\")\n",
    "\n",
    "student_colunms = student_soap_lidar_sum.columns\n",
    "\n",
    "if 'lidar_max' in student_colunms:\n",
    "    print(\"\\u2705 Dataset has the correct column name for the maximum values!\")\n",
    "    student_soap_lidar_points += 1\n",
    "else:\n",
    "    print(\"\\u274C Oops, the dataset does not have the correct column name for the maximum values.\")\n",
    "\n",
    "if 'lidar_mean' in student_colunms:\n",
    "    print(\"\\u2705 Dataset has the correct column name for the mean values!\")\n",
    "    student_soap_lidar_points += 1\n",
    "else:\n",
    "    print(\"\\u274C Oops, the dataset does not have the correct column name for the mean values.\")\n",
    "\n"
   ]
  },
  {
   "cell_type": "code",
   "execution_count": null,
   "metadata": {
    "deletable": false,
    "nbgrader": {
     "cell_type": "code",
     "checksum": "a8be2e7e6a3ba5badf92cc573202013c",
     "grade": false,
     "grade_id": "soap-group-insitu-data",
     "locked": false,
     "schema_version": 3,
     "solution": true,
     "task": false
    }
   },
   "outputs": [],
   "source": [
    "# SOAP -- Calculate mean and max from insitu data (csv file), rename columns\n",
    "# IMPORTANT: rename the calculated columns: insitu_max, insitu_mean\n",
    "# IMPORTANT: call your joined dataframe at the end of this cell\n",
    "\n",
    "# YOUR CODE HERE\n",
    "raise NotImplementedError()"
   ]
  },
  {
   "cell_type": "code",
   "execution_count": null,
   "metadata": {
    "deletable": false,
    "editable": false,
    "nbgrader": {
     "cell_type": "code",
     "checksum": "d839bcb2826a1906b1576959a03b48d0",
     "grade": true,
     "grade_id": "soap-insitu-dataset-test",
     "locked": true,
     "points": 7,
     "schema_version": 3,
     "solution": false,
     "task": false
    }
   },
   "outputs": [],
   "source": [
    "# Tests that the new columns exist and have the correct values\n",
    "# IMPORTANT: Make sure you called the dataframe with the new columns at the end of the above cell.\n",
    "# Do not modify this cell\n",
    "\n",
    "student_soap_insitu_sum = _\n",
    "student_soap_insitu_points = 0\n",
    "\n",
    "if isinstance(student_soap_insitu_sum, gpd.GeoDataFrame):\n",
    "    print(\"\\u2705 Great job! Your data are stored in a GeoDataFrame!\")\n",
    "    student_soap_insitu_points += 1\n",
    "else:\n",
    "    print(\"\\u274C Oops, the data are not stored in a GeoDataFrame.\")\n",
    "\n",
    "student_colunms = student_soap_insitu_sum.columns\n",
    "\n",
    "if 'insitu_max' in student_colunms:\n",
    "    print(\"\\u2705 Dataset has the correct column name for the maximum values!\")\n",
    "    student_soap_insitu_points += 1\n",
    "else:\n",
    "    print(\"\\u274C Oops, the dataset does not have the correct column name for the maximum values.\")\n",
    "\n",
    "if 'insitu_mean' in student_colunms:\n",
    "    print(\"\\u2705 Dataset has the correct column name for the mean values!\")\n",
    "    student_soap_insitu_points += 1\n",
    "else:\n",
    "    print(\"\\u274C Oops, the dataset does not have the correct column name for the mean values.\")\n"
   ]
  },
  {
   "cell_type": "code",
   "execution_count": null,
   "metadata": {
    "caption": "Plots of lidar min and max vs insitu min and max with a 1:1 line a regression fit for the NEON SOAP field site.",
    "deletable": false,
    "nbgrader": {
     "cell_type": "code",
     "checksum": "d17257d887268650fbc519d506c8d071",
     "grade": false,
     "grade_id": "plot-soap-data",
     "locked": false,
     "schema_version": 3,
     "solution": true,
     "task": false
    }
   },
   "outputs": [],
   "source": [
    "# Plot 3 & 4 - SOAP max and mean - plot code only in this cell\n",
    "\n",
    "# YOUR CODE HERE\n",
    "raise NotImplementedError()\n",
    "\n",
    "### DO NOT REMOVE LINE BELOW ###\n",
    "plot02_soap_max_v_mean = nb.convert_axes(plt, which_axes=\"all\")"
   ]
  },
  {
   "cell_type": "code",
   "execution_count": null,
   "metadata": {
    "deletable": false,
    "editable": false,
    "nbgrader": {
     "cell_type": "code",
     "checksum": "46b98644489221150a09d48fa6d27546",
     "grade": true,
     "grade_id": "soap-plot-tests-1",
     "locked": true,
     "points": 15,
     "schema_version": 3,
     "solution": false,
     "task": false
    }
   },
   "outputs": [],
   "source": [
    "# Figure 2, Subplot 1 Tests - SOAP max\n",
    "# You can skip this cell!\n"
   ]
  },
  {
   "cell_type": "code",
   "execution_count": null,
   "metadata": {
    "deletable": false,
    "editable": false,
    "nbgrader": {
     "cell_type": "code",
     "checksum": "f9388c6e7bbcfa28b4fe1a83a06dbe12",
     "grade": true,
     "grade_id": "soap-plot-tests-2",
     "locked": true,
     "points": 15,
     "schema_version": 3,
     "solution": false,
     "task": false
    }
   },
   "outputs": [],
   "source": [
    "# Figure 2, Subplot 2 Tests - SOAP mean\n",
    "# You can skip this cell!\n"
   ]
  },
  {
   "cell_type": "markdown",
   "metadata": {
    "deletable": false,
    "editable": false,
    "nbgrader": {
     "cell_type": "markdown",
     "checksum": "396ace7201bd2273c56859f222179f7d",
     "grade": false,
     "grade_id": "bar3",
     "locked": true,
     "schema_version": 3,
     "solution": false,
     "task": false
    }
   },
   "source": [
    "![Colored Bar](colored-bar.png)"
   ]
  },
  {
   "cell_type": "markdown",
   "metadata": {
    "deletable": false,
    "editable": false,
    "nbgrader": {
     "cell_type": "markdown",
     "checksum": "7c9acd8481f41ed88fd1aa8653af416b",
     "grade": false,
     "grade_id": "plot-1-questions",
     "locked": true,
     "schema_version": 3,
     "solution": false,
     "task": false
    }
   },
   "source": [
    "## Question 1 Figure One: SJER mean vs max height -- Plots 1 and 2 Interpretation\n",
    "In the markdown cell below, answer the following questions:\n",
    "\n",
    "1. Looking at the plots above, which metric: mean or max height, has a stronger relationship or is closer to a one:one relationship?\n",
    "2. List one reason why mean or max (whatever you answered for question 1 above) has a stronger relationship.\n",
    "\n",
    "You answers can be brief -- a single word or sentence or two is fine. "
   ]
  },
  {
   "cell_type": "markdown",
   "metadata": {
    "deletable": false,
    "nbgrader": {
     "cell_type": "markdown",
     "checksum": "6d4a67998f2426ead40428d9f3aca4e5",
     "grade": true,
     "grade_id": "plot-1-answers",
     "locked": false,
     "points": 5,
     "schema_version": 3,
     "solution": true,
     "task": false
    }
   },
   "source": [
    "YOUR ANSWER HERE"
   ]
  },
  {
   "cell_type": "markdown",
   "metadata": {
    "deletable": false,
    "editable": false,
    "nbgrader": {
     "cell_type": "markdown",
     "checksum": "dc27ba4919447e29b803a05515bb3e7a",
     "grade": false,
     "grade_id": "bar4",
     "locked": true,
     "schema_version": 3,
     "solution": false,
     "task": false
    }
   },
   "source": [
    "![Colored Bar](colored-bar.png)"
   ]
  },
  {
   "cell_type": "markdown",
   "metadata": {
    "deletable": false,
    "editable": false,
    "nbgrader": {
     "cell_type": "markdown",
     "checksum": "747eb19abfe45d1ed213326d35d307a7",
     "grade": false,
     "grade_id": "data-relate-questions",
     "locked": true,
     "schema_version": 3,
     "solution": false,
     "task": false
    }
   },
   "source": [
    "\n",
    "## Question 2. Of all four relationships that you plotted above, which site (SOAP or SJER) and metric (mean or max height) showed the strongest relationship? \n",
    "\n",
    "**A strong relationship is one that is closer to 1:1 in this case.**\n",
    "\n",
    "Add your answer in the markdown cell below. It can be short - 2-5 sentences. You do not need to perform any additional calculations. Consider the readings and the data and suggest why a particular metric might have a strong relationship."
   ]
  },
  {
   "cell_type": "markdown",
   "metadata": {
    "deletable": false,
    "nbgrader": {
     "cell_type": "markdown",
     "checksum": "48cf149fe4e1c45f60c5eb840fb1f935",
     "grade": true,
     "grade_id": "data-relate-answers",
     "locked": false,
     "points": 5,
     "schema_version": 3,
     "solution": true,
     "task": false
    },
    "slideshow": {
     "slide_type": "slide"
    }
   },
   "source": [
    "YOUR ANSWER HERE"
   ]
  },
  {
   "cell_type": "markdown",
   "metadata": {
    "deletable": false,
    "editable": false,
    "nbgrader": {
     "cell_type": "markdown",
     "checksum": "d3027879415058268fc0f4ed337ed1c8",
     "grade": false,
     "grade_id": "bar5",
     "locked": true,
     "schema_version": 3,
     "solution": false,
     "task": false
    }
   },
   "source": [
    "![Colored Bar](colored-bar.png)"
   ]
  },
  {
   "cell_type": "markdown",
   "metadata": {
    "deletable": false,
    "editable": false,
    "nbgrader": {
     "cell_type": "markdown",
     "checksum": "0631c06328e3db710bd5a534f303c66b",
     "grade": false,
     "grade_id": "measure-diff-question",
     "locked": true,
     "schema_version": 3,
     "solution": false,
     "task": false
    }
   },
   "source": [
    "## Question 3. List 2 reasons why lidar max height values may be larger than human measurements.\n",
    "\n",
    "Add your answer to the markdown cell below."
   ]
  },
  {
   "cell_type": "markdown",
   "metadata": {
    "deletable": false,
    "nbgrader": {
     "cell_type": "markdown",
     "checksum": "c51a6f790505dc531bc0b7b8f9ef4e0c",
     "grade": true,
     "grade_id": "measure-diff-answers",
     "locked": false,
     "points": 5,
     "schema_version": 3,
     "solution": true,
     "task": false
    }
   },
   "source": [
    "YOUR ANSWER HERE"
   ]
  },
  {
   "cell_type": "markdown",
   "metadata": {
    "deletable": false,
    "editable": false,
    "nbgrader": {
     "cell_type": "markdown",
     "checksum": "4300d614b6573172961bb995915cc9c9",
     "grade": false,
     "grade_id": "bar6",
     "locked": true,
     "schema_version": 3,
     "solution": false,
     "task": false
    }
   },
   "source": [
    "![Colored Bar](colored-bar.png)"
   ]
  },
  {
   "cell_type": "markdown",
   "metadata": {
    "deletable": false,
    "editable": false,
    "nbgrader": {
     "cell_type": "markdown",
     "checksum": "74a234724e0f2a4ef2fc634ceb2040d6",
     "grade": false,
     "grade_id": "systemic-error-question",
     "locked": true,
     "schema_version": 3,
     "solution": false,
     "task": false
    }
   },
   "source": [
    "## Question 4. List 2 systematic sources of error could impact differences between lidar and measured tree height values ( 5 points)\n",
    "\n",
    "Add your answer in the markdown cell below."
   ]
  },
  {
   "cell_type": "markdown",
   "metadata": {
    "deletable": false,
    "nbgrader": {
     "cell_type": "markdown",
     "checksum": "e901b357454d2556bde925dd7dc199af",
     "grade": true,
     "grade_id": "systemic-error-answer",
     "locked": false,
     "points": 5,
     "schema_version": 3,
     "solution": true,
     "task": false
    }
   },
   "source": [
    "YOUR ANSWER HERE"
   ]
  },
  {
   "cell_type": "markdown",
   "metadata": {
    "deletable": false,
    "editable": false,
    "nbgrader": {
     "cell_type": "markdown",
     "checksum": "f849d9cddb07001289ccff6d453f1701",
     "grade": false,
     "grade_id": "bar7",
     "locked": true,
     "schema_version": 3,
     "solution": false,
     "task": false
    }
   },
   "source": [
    "![Colored Bar](colored-bar.png)"
   ]
  },
  {
   "cell_type": "markdown",
   "metadata": {
    "deletable": false,
    "editable": false,
    "nbgrader": {
     "cell_type": "markdown",
     "checksum": "4322c0f3e4b062cdc4efe58ec497f28f",
     "grade": false,
     "grade_id": "random-error-question",
     "locked": true,
     "schema_version": 3,
     "solution": false,
     "task": false
    }
   },
   "source": [
    "## Question 5. List 2 random sources of error that could impact differences between lidar and measured tree height values.  (5 points)\n",
    "\n",
    "Add your answer to the markdown cell below. Note that you can provide sources of random error for lidar OR insitu measurements. You only need two total examples. "
   ]
  },
  {
   "cell_type": "markdown",
   "metadata": {
    "deletable": false,
    "nbgrader": {
     "cell_type": "markdown",
     "checksum": "d450638c322c4abf6483d255d72a8509",
     "grade": true,
     "grade_id": "random-error-answer",
     "locked": false,
     "points": 5,
     "schema_version": 3,
     "solution": true,
     "task": false
    }
   },
   "source": [
    "YOUR ANSWER HERE"
   ]
  },
  {
   "cell_type": "markdown",
   "metadata": {
    "deletable": false,
    "editable": false,
    "nbgrader": {
     "cell_type": "markdown",
     "checksum": "c7f95b06ea35fdce73449bbded31e351",
     "grade": false,
     "grade_id": "bar8",
     "locked": true,
     "schema_version": 3,
     "solution": false,
     "task": false
    }
   },
   "source": [
    "![Colored Bar](colored-bar.png)"
   ]
  },
  {
   "cell_type": "markdown",
   "metadata": {
    "deletable": false,
    "editable": false,
    "nbgrader": {
     "cell_type": "markdown",
     "checksum": "8fe6d1680d57c371140cb6351a5e470b",
     "grade": false,
     "grade_id": "pep8",
     "locked": true,
     "points": 10,
     "schema_version": 3,
     "solution": false,
     "task": true
    }
   },
   "source": [
    "\n",
    "# Do not edit this cell!\n",
    "* Notebook begins at cell [1] and runs on any machine in its entirety.\n",
    "* Pep8 format is applied throughout.\n",
    "* Notebook is fully reproducible. This means:\n",
    "   * reproducible paths using the os module\n",
    "   * data downloaded using code in the notebook."
   ]
  }
 ],
 "metadata": {
  "kernelspec": {
   "display_name": "Python 3 (ipykernel)",
   "language": "python",
   "name": "python3"
  },
  "language_info": {
   "codemirror_mode": {
    "name": "ipython",
    "version": 3
   },
   "file_extension": ".py",
   "mimetype": "text/x-python",
   "name": "python",
   "nbconvert_exporter": "python",
   "pygments_lexer": "ipython3",
   "version": "3.8.12"
  },
  "toc": {
   "base_numbering": 1,
   "nav_menu": {},
   "number_sections": true,
   "sideBar": true,
   "skip_h1_title": false,
   "title_cell": "Table of Contents",
   "title_sidebar": "Contents",
   "toc_cell": false,
   "toc_position": {},
   "toc_section_display": true,
   "toc_window_display": true
  },
  "varInspector": {
   "cols": {
    "lenName": 16,
    "lenType": 16,
    "lenVar": 40
   },
   "kernels_config": {
    "python": {
     "delete_cmd_postfix": "",
     "delete_cmd_prefix": "del ",
     "library": "var_list.py",
     "varRefreshCmd": "print(var_dic_list())"
    },
    "r": {
     "delete_cmd_postfix": ") ",
     "delete_cmd_prefix": "rm(",
     "library": "var_list.r",
     "varRefreshCmd": "cat(var_dic_list()) "
    }
   },
   "types_to_exclude": [
    "module",
    "function",
    "builtin_function_or_method",
    "instance",
    "_Feature"
   ],
   "window_display": false
  }
 },
 "nbformat": 4,
 "nbformat_minor": 2
}
